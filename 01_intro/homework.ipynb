{
 "cells": [
  {
   "cell_type": "code",
   "execution_count": 1,
   "id": "f4665ccf-c423-4c89-a1d8-3b8b1fbbdf4e",
   "metadata": {},
   "outputs": [],
   "source": [
    "import openai"
   ]
  },
  {
   "cell_type": "code",
   "execution_count": 2,
   "id": "6e0a8c56-c04f-411d-b5c0-3fb0cb71e0f4",
   "metadata": {},
   "outputs": [],
   "source": [
    "from openai import OpenAI"
   ]
  },
  {
   "cell_type": "code",
   "execution_count": 14,
   "id": "005f5c8d-c756-4486-9e95-188f6a3ffb38",
   "metadata": {},
   "outputs": [],
   "source": [
    "client = OpenAI()"
   ]
  },
  {
   "cell_type": "code",
   "execution_count": 15,
   "id": "c478c1e6-cd26-4c28-869a-c8eb0fe00c42",
   "metadata": {},
   "outputs": [],
   "source": [
    "import os\n",
    "#os.environ"
   ]
  },
  {
   "cell_type": "code",
   "execution_count": 16,
   "id": "7d40526c-881c-46de-a4ed-21732d18fe31",
   "metadata": {},
   "outputs": [],
   "source": [
    "#we want to use chatapi --\n",
    "response = client.chat.completions.create(\n",
    "    model='gpt-4o',\n",
    "    messages=[{\"role\":\"user\", \"content\":\"is it too late to join the course?\"}]\n",
    ")"
   ]
  },
  {
   "cell_type": "code",
   "execution_count": 17,
   "id": "5f7383b9-bc26-41ba-90ec-919d4cec2d13",
   "metadata": {},
   "outputs": [
    {
     "data": {
      "text/plain": [
       "ChatCompletion(id='chatcmpl-9cII8XPOJmnzlDK11jfy1G1Vs6n7O', choices=[Choice(finish_reason='stop', index=0, logprobs=None, message=ChatCompletionMessage(content=\"It depends on the specific course you're referring to. Each course, whether it’s an academic class, an online program, or a workshop, may have its own enrollment deadlines and policies. Here are some steps you can take:\\n\\n1. **Check the Course Website**: Look for any information about enrollment deadlines.\\n2. **Contact the Instructor or Administration**: Email or call them to ask if they are still accepting students.\\n3. **Look for Enrollment Exceptions**: Sometimes courses offer late enrollment options or have waiting lists.\\n4. **Consider Future Sessions**: If it's too late for the current session, ask about the next time the course will be offered.\\n\\nProvide specific details if you need more tailored advice!\", role='assistant', function_call=None, tool_calls=None))], created=1718913804, model='gpt-4o-2024-05-13', object='chat.completion', service_tier=None, system_fingerprint='fp_f4e629d0a5', usage=CompletionUsage(completion_tokens=143, prompt_tokens=16, total_tokens=159))"
      ]
     },
     "execution_count": 17,
     "metadata": {},
     "output_type": "execute_result"
    }
   ],
   "source": [
    "response"
   ]
  },
  {
   "cell_type": "code",
   "execution_count": 18,
   "id": "3c75cbc0-1ff0-4c0d-ad63-d01e90c52dc1",
   "metadata": {},
   "outputs": [
    {
     "data": {
      "text/plain": [
       "\"It depends on the specific course you're referring to. Each course, whether it’s an academic class, an online program, or a workshop, may have its own enrollment deadlines and policies. Here are some steps you can take:\\n\\n1. **Check the Course Website**: Look for any information about enrollment deadlines.\\n2. **Contact the Instructor or Administration**: Email or call them to ask if they are still accepting students.\\n3. **Look for Enrollment Exceptions**: Sometimes courses offer late enrollment options or have waiting lists.\\n4. **Consider Future Sessions**: If it's too late for the current session, ask about the next time the course will be offered.\\n\\nProvide specific details if you need more tailored advice!\""
      ]
     },
     "execution_count": 18,
     "metadata": {},
     "output_type": "execute_result"
    }
   ],
   "source": [
    "response.choices[0].message.content"
   ]
  },
  {
   "cell_type": "code",
   "execution_count": null,
   "id": "993d9704-bf6e-4959-b2a4-dc0286540d86",
   "metadata": {},
   "outputs": [],
   "source": []
  }
 ],
 "metadata": {
  "kernelspec": {
   "display_name": "Python 3 (ipykernel)",
   "language": "python",
   "name": "python3"
  },
  "language_info": {
   "codemirror_mode": {
    "name": "ipython",
    "version": 3
   },
   "file_extension": ".py",
   "mimetype": "text/x-python",
   "name": "python",
   "nbconvert_exporter": "python",
   "pygments_lexer": "ipython3",
   "version": "3.10.13"
  }
 },
 "nbformat": 4,
 "nbformat_minor": 5
}
